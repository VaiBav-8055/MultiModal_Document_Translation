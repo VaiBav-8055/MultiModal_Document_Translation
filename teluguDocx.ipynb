{
  "nbformat": 4,
  "nbformat_minor": 0,
  "metadata": {
    "colab": {
      "provenance": []
    },
    "kernelspec": {
      "name": "python3",
      "display_name": "Python 3"
    },
    "language_info": {
      "name": "python"
    }
  },
  "cells": [
    {
      "cell_type": "code",
      "source": [
        "!pip install PyMuPDF\n",
        "!pip install googletrans==4.0.0-rc1\n",
        "!pip install python-docx\n"
      ],
      "metadata": {
        "id": "OMYU4zXVspw0"
      },
      "execution_count": null,
      "outputs": []
    },
    {
      "cell_type": "code",
      "execution_count": 2,
      "metadata": {
        "id": "odSpoK-xsMLm"
      },
      "outputs": [],
      "source": [
        "import fitz  # PyMuPDF\n",
        "from googletrans import Translator\n",
        "from docx import Document\n",
        "\n",
        "def extract_text_from_pdf(pdf_path):\n",
        "    doc = fitz.open(pdf_path)\n",
        "    text = \"\"\n",
        "\n",
        "    for page in doc.pages():\n",
        "        text += page.get_text()\n",
        "\n",
        "    doc.close()\n",
        "    return text\n",
        "\n",
        "def translate_and_add_to_word(input_pdf_path, output_word_path, target_lang):\n",
        "    translator = Translator()\n",
        "\n",
        "    pdf_text = extract_text_from_pdf(input_pdf_path)\n",
        "\n",
        "    try:\n",
        "        translated_text = translator.translate(pdf_text, dest=target_lang).text\n",
        "    except Exception as e:\n",
        "        print(f\"Translation failed: {e}\")\n",
        "        translated_text = pdf_text  # Use original text if translation fails\n",
        "\n",
        "    # Create a new Word document\n",
        "    doc = Document()\n",
        "    doc.add_paragraph(translated_text)\n",
        "\n",
        "    # Save the translated Word document\n",
        "    doc.save(output_word_path)\n",
        "\n",
        "# Usage example:\n",
        "translate_and_add_to_word('./CHEMPAPER_IDP.pdf', 'telugu1.docx', target_lang='te')\n"
      ]
    }
  ]
}