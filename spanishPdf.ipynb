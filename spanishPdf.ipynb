{
  "cells": [
    {
      "cell_type": "code",
      "execution_count": 3,
      "metadata": {
        "id": "2Tnj93l6ILlD"
      },
      "outputs": [],
      "source": []
    },
    {
      "cell_type": "code",
      "execution_count": 1,
      "metadata": {
        "colab": {
          "base_uri": "https://localhost:8080/"
        },
        "id": "4ega4bfQIMk_",
        "outputId": "3c65678c-f807-40fd-ba3c-dcb87e1df6d7"
      },
      "outputs": [
        {
          "output_type": "stream",
          "name": "stdout",
          "text": [
            "Collecting pdfplumber\n",
            "  Downloading pdfplumber-0.10.3-py3-none-any.whl (48 kB)\n",
            "\u001b[2K     \u001b[90m━━━━━━━━━━━━━━━━━━━━━━━━━━━━━━━━━━━━━━━━\u001b[0m \u001b[32m49.0/49.0 kB\u001b[0m \u001b[31m881.3 kB/s\u001b[0m eta \u001b[36m0:00:00\u001b[0m\n",
            "\u001b[?25hCollecting pdfminer.six==20221105 (from pdfplumber)\n",
            "  Downloading pdfminer.six-20221105-py3-none-any.whl (5.6 MB)\n",
            "\u001b[2K     \u001b[90m━━━━━━━━━━━━━━━━━━━━━━━━━━━━━━━━━━━━━━━━\u001b[0m \u001b[32m5.6/5.6 MB\u001b[0m \u001b[31m36.4 MB/s\u001b[0m eta \u001b[36m0:00:00\u001b[0m\n",
            "\u001b[?25hRequirement already satisfied: Pillow>=9.1 in /usr/local/lib/python3.10/dist-packages (from pdfplumber) (9.4.0)\n",
            "Collecting pypdfium2>=4.18.0 (from pdfplumber)\n",
            "  Downloading pypdfium2-4.24.0-py3-none-manylinux_2_17_x86_64.whl (3.0 MB)\n",
            "\u001b[2K     \u001b[90m━━━━━━━━━━━━━━━━━━━━━━━━━━━━━━━━━━━━━━━━\u001b[0m \u001b[32m3.0/3.0 MB\u001b[0m \u001b[31m51.5 MB/s\u001b[0m eta \u001b[36m0:00:00\u001b[0m\n",
            "\u001b[?25hRequirement already satisfied: charset-normalizer>=2.0.0 in /usr/local/lib/python3.10/dist-packages (from pdfminer.six==20221105->pdfplumber) (3.3.2)\n",
            "Requirement already satisfied: cryptography>=36.0.0 in /usr/local/lib/python3.10/dist-packages (from pdfminer.six==20221105->pdfplumber) (41.0.5)\n",
            "Requirement already satisfied: cffi>=1.12 in /usr/local/lib/python3.10/dist-packages (from cryptography>=36.0.0->pdfminer.six==20221105->pdfplumber) (1.16.0)\n",
            "Requirement already satisfied: pycparser in /usr/local/lib/python3.10/dist-packages (from cffi>=1.12->cryptography>=36.0.0->pdfminer.six==20221105->pdfplumber) (2.21)\n",
            "Installing collected packages: pypdfium2, pdfminer.six, pdfplumber\n",
            "Successfully installed pdfminer.six-20221105 pdfplumber-0.10.3 pypdfium2-4.24.0\n"
          ]
        }
      ],
      "source": [
        "!pip install pdfplumber"
      ]
    },
    {
      "cell_type": "code",
      "execution_count": 2,
      "metadata": {
        "colab": {
          "base_uri": "https://localhost:8080/"
        },
        "id": "ayzUvkZyIVNt",
        "outputId": "06c69e5b-a316-4bda-b30c-0456ba6c5589"
      },
      "outputs": [
        {
          "output_type": "stream",
          "name": "stdout",
          "text": [
            "Collecting googletrans\n",
            "  Downloading googletrans-3.0.0.tar.gz (17 kB)\n",
            "  Preparing metadata (setup.py) ... \u001b[?25l\u001b[?25hdone\n",
            "Collecting httpx==0.13.3 (from googletrans)\n",
            "  Downloading httpx-0.13.3-py3-none-any.whl (55 kB)\n",
            "\u001b[2K     \u001b[90m━━━━━━━━━━━━━━━━━━━━━━━━━━━━━━━━━━━━━━━━\u001b[0m \u001b[32m55.1/55.1 kB\u001b[0m \u001b[31m1.5 MB/s\u001b[0m eta \u001b[36m0:00:00\u001b[0m\n",
            "\u001b[?25hRequirement already satisfied: certifi in /usr/local/lib/python3.10/dist-packages (from httpx==0.13.3->googletrans) (2023.7.22)\n",
            "Collecting hstspreload (from httpx==0.13.3->googletrans)\n",
            "  Downloading hstspreload-2023.1.1-py3-none-any.whl (1.5 MB)\n",
            "\u001b[2K     \u001b[90m━━━━━━━━━━━━━━━━━━━━━━━━━━━━━━━━━━━━━━━━\u001b[0m \u001b[32m1.5/1.5 MB\u001b[0m \u001b[31m19.6 MB/s\u001b[0m eta \u001b[36m0:00:00\u001b[0m\n",
            "\u001b[?25hRequirement already satisfied: sniffio in /usr/local/lib/python3.10/dist-packages (from httpx==0.13.3->googletrans) (1.3.0)\n",
            "Collecting chardet==3.* (from httpx==0.13.3->googletrans)\n",
            "  Downloading chardet-3.0.4-py2.py3-none-any.whl (133 kB)\n",
            "\u001b[2K     \u001b[90m━━━━━━━━━━━━━━━━━━━━━━━━━━━━━━━━━━━━━━━━\u001b[0m \u001b[32m133.4/133.4 kB\u001b[0m \u001b[31m12.6 MB/s\u001b[0m eta \u001b[36m0:00:00\u001b[0m\n",
            "\u001b[?25hCollecting idna==2.* (from httpx==0.13.3->googletrans)\n",
            "  Downloading idna-2.10-py2.py3-none-any.whl (58 kB)\n",
            "\u001b[2K     \u001b[90m━━━━━━━━━━━━━━━━━━━━━━━━━━━━━━━━━━━━━━━━\u001b[0m \u001b[32m58.8/58.8 kB\u001b[0m \u001b[31m6.3 MB/s\u001b[0m eta \u001b[36m0:00:00\u001b[0m\n",
            "\u001b[?25hCollecting rfc3986<2,>=1.3 (from httpx==0.13.3->googletrans)\n",
            "  Downloading rfc3986-1.5.0-py2.py3-none-any.whl (31 kB)\n",
            "Collecting httpcore==0.9.* (from httpx==0.13.3->googletrans)\n",
            "  Downloading httpcore-0.9.1-py3-none-any.whl (42 kB)\n",
            "\u001b[2K     \u001b[90m━━━━━━━━━━━━━━━━━━━━━━━━━━━━━━━━━━━━━━━━\u001b[0m \u001b[32m42.6/42.6 kB\u001b[0m \u001b[31m4.0 MB/s\u001b[0m eta \u001b[36m0:00:00\u001b[0m\n",
            "\u001b[?25hCollecting h11<0.10,>=0.8 (from httpcore==0.9.*->httpx==0.13.3->googletrans)\n",
            "  Downloading h11-0.9.0-py2.py3-none-any.whl (53 kB)\n",
            "\u001b[2K     \u001b[90m━━━━━━━━━━━━━━━━━━━━━━━━━━━━━━━━━━━━━━━━\u001b[0m \u001b[32m53.6/53.6 kB\u001b[0m \u001b[31m6.0 MB/s\u001b[0m eta \u001b[36m0:00:00\u001b[0m\n",
            "\u001b[?25hCollecting h2==3.* (from httpcore==0.9.*->httpx==0.13.3->googletrans)\n",
            "  Downloading h2-3.2.0-py2.py3-none-any.whl (65 kB)\n",
            "\u001b[2K     \u001b[90m━━━━━━━━━━━━━━━━━━━━━━━━━━━━━━━━━━━━━━━━\u001b[0m \u001b[32m65.0/65.0 kB\u001b[0m \u001b[31m7.8 MB/s\u001b[0m eta \u001b[36m0:00:00\u001b[0m\n",
            "\u001b[?25hCollecting hyperframe<6,>=5.2.0 (from h2==3.*->httpcore==0.9.*->httpx==0.13.3->googletrans)\n",
            "  Downloading hyperframe-5.2.0-py2.py3-none-any.whl (12 kB)\n",
            "Collecting hpack<4,>=3.0 (from h2==3.*->httpcore==0.9.*->httpx==0.13.3->googletrans)\n",
            "  Downloading hpack-3.0.0-py2.py3-none-any.whl (38 kB)\n",
            "Building wheels for collected packages: googletrans\n",
            "  Building wheel for googletrans (setup.py) ... \u001b[?25l\u001b[?25hdone\n",
            "  Created wheel for googletrans: filename=googletrans-3.0.0-py3-none-any.whl size=15717 sha256=db0481ad5fc2a174ce3cc03b1eeb4ea74a16e9c247cc20f051b716a9305d7a31\n",
            "  Stored in directory: /root/.cache/pip/wheels/b3/81/ea/8b030407f8ebfc2f857814e086bb22ca2d4fea1a7be63652ab\n",
            "Successfully built googletrans\n",
            "Installing collected packages: rfc3986, hyperframe, hpack, h11, chardet, idna, hstspreload, h2, httpcore, httpx, googletrans\n",
            "  Attempting uninstall: chardet\n",
            "    Found existing installation: chardet 5.2.0\n",
            "    Uninstalling chardet-5.2.0:\n",
            "      Successfully uninstalled chardet-5.2.0\n",
            "  Attempting uninstall: idna\n",
            "    Found existing installation: idna 3.4\n",
            "    Uninstalling idna-3.4:\n",
            "      Successfully uninstalled idna-3.4\n",
            "Successfully installed chardet-3.0.4 googletrans-3.0.0 h11-0.9.0 h2-3.2.0 hpack-3.0.0 hstspreload-2023.1.1 httpcore-0.9.1 httpx-0.13.3 hyperframe-5.2.0 idna-2.10 rfc3986-1.5.0\n"
          ]
        }
      ],
      "source": [
        "!pip install googletrans"
      ]
    },
    {
      "cell_type": "code",
      "execution_count": 3,
      "metadata": {
        "colab": {
          "base_uri": "https://localhost:8080/"
        },
        "id": "8HQPvUn_IgUB",
        "outputId": "78400b37-fcd2-4dc2-8acc-8fc331834274"
      },
      "outputs": [
        {
          "output_type": "stream",
          "name": "stdout",
          "text": [
            "Collecting reportlab\n",
            "  Downloading reportlab-4.0.7-py3-none-any.whl (1.9 MB)\n",
            "\u001b[2K     \u001b[90m━━━━━━━━━━━━━━━━━━━━━━━━━━━━━━━━━━━━━━━━\u001b[0m \u001b[32m1.9/1.9 MB\u001b[0m \u001b[31m16.3 MB/s\u001b[0m eta \u001b[36m0:00:00\u001b[0m\n",
            "\u001b[?25hRequirement already satisfied: pillow>=9.0.0 in /usr/local/lib/python3.10/dist-packages (from reportlab) (9.4.0)\n",
            "Installing collected packages: reportlab\n",
            "Successfully installed reportlab-4.0.7\n"
          ]
        }
      ],
      "source": [
        "!pip install reportlab"
      ]
    },
    {
      "cell_type": "code",
      "execution_count": 7,
      "metadata": {
        "id": "yPJZqdQKH7BL"
      },
      "outputs": [],
      "source": [
        "# import pdfplumber  # For PDF parsing\n",
        "# import spacy  # For NER\n",
        "# from googletrans import Translator  # For translation\n",
        "# from reportlab.pdfgen import canvas  # For PDF generation\n",
        "\n",
        "# def translate_pdf(input_pdf_path, output_pdf_path, source_lang, target_lang):\n",
        "#     # Load NER model (customize or use a pre-trained model suited for chemistry)\n",
        "#     nlp = spacy.load(\"en_core_web_sm\")\n",
        "\n",
        "#     # Initialize a PDF translator\n",
        "#     translator = Translator()\n",
        "\n",
        "#     # Open the input PDF\n",
        "#     with pdfplumber.open(input_pdf_path) as pdf:\n",
        "#         output_pdf = canvas.Canvas(output_pdf_path)\n",
        "\n",
        "#         # Iterate through pages\n",
        "#         for page in pdf.pages:\n",
        "#             text = page.extract_text()\n",
        "#             # Apply NER to identify entities\n",
        "#             doc = nlp(text)\n",
        "\n",
        "#             translated_text = \"\"\n",
        "#             last_idx = 0\n",
        "#             for ent in doc.ents:\n",
        "#                 # Translate text up to the entity\n",
        "#                 translated_text += translator.translate(text[last_idx:ent.start_char], src=source_lang, dest=target_lang).text\n",
        "#                 # Check if entity should be translated or not\n",
        "#                 if should_translate(ent):\n",
        "#                     translated_text += translator.translate(ent.text, src=source_lang, dest=target_lang).text\n",
        "#                 else:\n",
        "#                     translated_text += ent.text  # Keep entity as is\n",
        "#                 last_idx = ent.end_char\n",
        "#             # Translate any remaining text after the last entity\n",
        "#             translated_text += translator.translate(text[last_idx:], src=source_lang, dest=target_lang).text\n",
        "\n",
        "#             # Add translated text to output PDF, maintaining layout\n",
        "#             output_pdf.drawString(x_position, y_position, translated_text)  # x_position, y_position need to be set based on layout\n",
        "\n",
        "#         output_pdf.save()\n",
        "\n",
        "# def should_translate(entity):\n",
        "#     # Custom logic to decide whether to translate an entity or not\n",
        "#     # For example, return False if the entity is 'He' and it's a chemical symbol\n",
        "#     return True  # or False based on the condition\n",
        "\n",
        "# # Example usage\n"
      ]
    },
    {
      "cell_type": "code",
      "execution_count": 7,
      "metadata": {
        "id": "5VpncuksIGTO"
      },
      "outputs": [],
      "source": []
    },
    {
      "cell_type": "code",
      "execution_count": 8,
      "metadata": {
        "id": "W9Ji7i10IGWs"
      },
      "outputs": [],
      "source": [
        "# #\n",
        "# translate_pdf(\"/content/Chemistry.pdf\", \"translated_output.pdf\", \"en\", \"te\")"
      ]
    },
    {
      "cell_type": "code",
      "execution_count": 4,
      "metadata": {
        "colab": {
          "base_uri": "https://localhost:8080/"
        },
        "id": "wP1ZzPswJNJC",
        "outputId": "a920c741-e17b-44ba-f18a-49bc56fe3b35"
      },
      "outputs": [
        {
          "output_type": "stream",
          "name": "stdout",
          "text": [
            "Collecting googletrans==4.0.0-rc1\n",
            "  Downloading googletrans-4.0.0rc1.tar.gz (20 kB)\n",
            "  Preparing metadata (setup.py) ... \u001b[?25l\u001b[?25hdone\n",
            "Requirement already satisfied: httpx==0.13.3 in /usr/local/lib/python3.10/dist-packages (from googletrans==4.0.0-rc1) (0.13.3)\n",
            "Requirement already satisfied: certifi in /usr/local/lib/python3.10/dist-packages (from httpx==0.13.3->googletrans==4.0.0-rc1) (2023.7.22)\n",
            "Requirement already satisfied: hstspreload in /usr/local/lib/python3.10/dist-packages (from httpx==0.13.3->googletrans==4.0.0-rc1) (2023.1.1)\n",
            "Requirement already satisfied: sniffio in /usr/local/lib/python3.10/dist-packages (from httpx==0.13.3->googletrans==4.0.0-rc1) (1.3.0)\n",
            "Requirement already satisfied: chardet==3.* in /usr/local/lib/python3.10/dist-packages (from httpx==0.13.3->googletrans==4.0.0-rc1) (3.0.4)\n",
            "Requirement already satisfied: idna==2.* in /usr/local/lib/python3.10/dist-packages (from httpx==0.13.3->googletrans==4.0.0-rc1) (2.10)\n",
            "Requirement already satisfied: rfc3986<2,>=1.3 in /usr/local/lib/python3.10/dist-packages (from httpx==0.13.3->googletrans==4.0.0-rc1) (1.5.0)\n",
            "Requirement already satisfied: httpcore==0.9.* in /usr/local/lib/python3.10/dist-packages (from httpx==0.13.3->googletrans==4.0.0-rc1) (0.9.1)\n",
            "Requirement already satisfied: h11<0.10,>=0.8 in /usr/local/lib/python3.10/dist-packages (from httpcore==0.9.*->httpx==0.13.3->googletrans==4.0.0-rc1) (0.9.0)\n",
            "Requirement already satisfied: h2==3.* in /usr/local/lib/python3.10/dist-packages (from httpcore==0.9.*->httpx==0.13.3->googletrans==4.0.0-rc1) (3.2.0)\n",
            "Requirement already satisfied: hyperframe<6,>=5.2.0 in /usr/local/lib/python3.10/dist-packages (from h2==3.*->httpcore==0.9.*->httpx==0.13.3->googletrans==4.0.0-rc1) (5.2.0)\n",
            "Requirement already satisfied: hpack<4,>=3.0 in /usr/local/lib/python3.10/dist-packages (from h2==3.*->httpcore==0.9.*->httpx==0.13.3->googletrans==4.0.0-rc1) (3.0.0)\n",
            "Building wheels for collected packages: googletrans\n",
            "  Building wheel for googletrans (setup.py) ... \u001b[?25l\u001b[?25hdone\n",
            "  Created wheel for googletrans: filename=googletrans-4.0.0rc1-py3-none-any.whl size=17396 sha256=9bf9630d1e14b2dc294a27e85658549bfe281fe4d939bf3fb571a5139a2082fa\n",
            "  Stored in directory: /root/.cache/pip/wheels/c0/59/9f/7372f0cf70160fe61b528532e1a7c8498c4becd6bcffb022de\n",
            "Successfully built googletrans\n",
            "Installing collected packages: googletrans\n",
            "  Attempting uninstall: googletrans\n",
            "    Found existing installation: googletrans 3.0.0\n",
            "    Uninstalling googletrans-3.0.0:\n",
            "      Successfully uninstalled googletrans-3.0.0\n",
            "Successfully installed googletrans-4.0.0rc1\n"
          ]
        }
      ],
      "source": [
        "!pip install googletrans==4.0.0-rc1"
      ]
    },
    {
      "cell_type": "code",
      "execution_count": 10,
      "metadata": {
        "id": "WA0a_1MqJNST"
      },
      "outputs": [],
      "source": [
        "# from deep_translator import GoogleTranslator\n",
        "\n",
        "# def translate_text(text, source_lang, target_lang):\n",
        "#     translator = GoogleTranslator(source=source_lang, target=target_lang)\n",
        "#     return translator.translate(text)\n",
        "\n",
        "# # Usage in your function\n",
        "# translated_text += translate_text(text[last_idx:ent.start_char], source_lang, target_lang)\n"
      ]
    },
    {
      "cell_type": "code",
      "execution_count": 5,
      "metadata": {
        "colab": {
          "base_uri": "https://localhost:8080/"
        },
        "id": "O361UtlEJOFq",
        "outputId": "db0e79ed-418d-4bce-c99e-81fac10a56a4"
      },
      "outputs": [
        {
          "output_type": "stream",
          "name": "stdout",
          "text": [
            "Collecting deep_translator\n",
            "  Downloading deep_translator-1.11.4-py3-none-any.whl (42 kB)\n",
            "\u001b[2K     \u001b[90m━━━━━━━━━━━━━━━━━━━━━━━━━━━━━━━━━━━━━━━━\u001b[0m \u001b[32m42.3/42.3 kB\u001b[0m \u001b[31m444.4 kB/s\u001b[0m eta \u001b[36m0:00:00\u001b[0m\n",
            "\u001b[?25hRequirement already satisfied: beautifulsoup4<5.0.0,>=4.9.1 in /usr/local/lib/python3.10/dist-packages (from deep_translator) (4.11.2)\n",
            "Requirement already satisfied: requests<3.0.0,>=2.23.0 in /usr/local/lib/python3.10/dist-packages (from deep_translator) (2.31.0)\n",
            "Requirement already satisfied: soupsieve>1.2 in /usr/local/lib/python3.10/dist-packages (from beautifulsoup4<5.0.0,>=4.9.1->deep_translator) (2.5)\n",
            "Requirement already satisfied: charset-normalizer<4,>=2 in /usr/local/lib/python3.10/dist-packages (from requests<3.0.0,>=2.23.0->deep_translator) (3.3.2)\n",
            "Requirement already satisfied: idna<4,>=2.5 in /usr/local/lib/python3.10/dist-packages (from requests<3.0.0,>=2.23.0->deep_translator) (2.10)\n",
            "Requirement already satisfied: urllib3<3,>=1.21.1 in /usr/local/lib/python3.10/dist-packages (from requests<3.0.0,>=2.23.0->deep_translator) (2.0.7)\n",
            "Requirement already satisfied: certifi>=2017.4.17 in /usr/local/lib/python3.10/dist-packages (from requests<3.0.0,>=2.23.0->deep_translator) (2023.7.22)\n",
            "Installing collected packages: deep_translator\n",
            "Successfully installed deep_translator-1.11.4\n"
          ]
        }
      ],
      "source": [
        "!pip install deep_translator"
      ]
    },
    {
      "cell_type": "code",
      "execution_count": 6,
      "metadata": {
        "id": "CexFNsPtKNCh"
      },
      "outputs": [],
      "source": [
        "from deep_translator import GoogleTranslator\n",
        "\n",
        "# Inside your translate function\n",
        "translated_text = GoogleTranslator(source='auto', target='te').translate('hello wassup')\n"
      ]
    },
    {
      "cell_type": "code",
      "execution_count": 7,
      "metadata": {
        "colab": {
          "base_uri": "https://localhost:8080/",
          "height": 35
        },
        "id": "2m7zyoC1KNGA",
        "outputId": "99b0bd0f-72d7-4ee6-c9dc-4622e62c1f89"
      },
      "outputs": [
        {
          "output_type": "execute_result",
          "data": {
            "text/plain": [
              "'హలో వాసప్'"
            ],
            "application/vnd.google.colaboratory.intrinsic+json": {
              "type": "string"
            }
          },
          "metadata": {},
          "execution_count": 7
        }
      ],
      "source": [
        "translated_text"
      ]
    },
    {
      "cell_type": "code",
      "execution_count": 13,
      "metadata": {
        "id": "UGZex1HTKes0"
      },
      "outputs": [],
      "source": []
    },
    {
      "cell_type": "code",
      "execution_count": 13,
      "metadata": {
        "id": "a48qjYlpMldj"
      },
      "outputs": [],
      "source": []
    },
    {
      "cell_type": "code",
      "execution_count": 13,
      "metadata": {
        "id": "whUYNWghMlf3"
      },
      "outputs": [],
      "source": []
    },
    {
      "cell_type": "code",
      "execution_count": 8,
      "metadata": {
        "id": "PsLn1uRVMlj7"
      },
      "outputs": [],
      "source": [
        "import pdfplumber\n",
        "\n",
        "def extract_text_layout(pdf_path):\n",
        "    text_layout = []\n",
        "    with pdfplumber.open(pdf_path) as pdf:\n",
        "        for page in pdf.pages:\n",
        "            text_layout.extend(page.extract_words(use_text_flow=True))\n",
        "    return text_layout\n"
      ]
    },
    {
      "cell_type": "code",
      "execution_count": 9,
      "metadata": {
        "id": "Bncy5JToMmGa"
      },
      "outputs": [],
      "source": [
        "from deep_translator import GoogleTranslator\n",
        "\n",
        "def translate_text(text, source_lang, target_lang):\n",
        "    translator = GoogleTranslator(source=source_lang, target=target_lang)\n",
        "    return translator.translate(text)\n"
      ]
    },
    {
      "cell_type": "code",
      "execution_count": 10,
      "metadata": {
        "id": "WTvnqeA6Ms-z"
      },
      "outputs": [],
      "source": [
        "def is_chemical_entity(word, context):\n",
        "    # List of common chemical symbols\n",
        "    chemical_symbols = ['H', 'He', 'Li', 'Be', 'B', 'C', 'N', 'O', 'F', 'Ne', 'Na', 'Mg', 'Al', 'Si', 'P', 'S', 'Cl', 'Ar', 'K', 'Ca']\n",
        "\n",
        "    # Simple check if the word is a chemical symbol\n",
        "    if word in chemical_symbols:\n",
        "        return True\n",
        "    return False\n"
      ]
    },
    {
      "cell_type": "code",
      "execution_count": 11,
      "metadata": {
        "id": "iXJUpESGM3IL"
      },
      "outputs": [],
      "source": [
        "from reportlab.pdfgen import canvas\n",
        "\n",
        "def create_pdf_with_layout(text_layout, translated_text, output_pdf_path):\n",
        "    c = canvas.Canvas(output_pdf_path)\n",
        "    for item in text_layout:\n",
        "        c.drawString(item['x0'], item['top'], translated_text[item['text']])\n",
        "    c.save()\n"
      ]
    },
    {
      "cell_type": "code",
      "source": [
        "def create_pdf_with_layout(text_layout, translated_text, output_pdf_path):\n",
        "    c = canvas.Canvas(output_pdf_path)\n",
        "    for item in text_layout:\n",
        "        # Use the translated text if available, otherwise use the original text\n",
        "        text_to_draw = translated_text.get(item['text'], item['text'])\n",
        "        c.drawString(item['x0'], item['top'], text_to_draw)\n",
        "    c.save()\n"
      ],
      "metadata": {
        "id": "yNke8ytAT1LM"
      },
      "execution_count": 12,
      "outputs": []
    },
    {
      "cell_type": "code",
      "execution_count": 13,
      "metadata": {
        "id": "M1v_ecgdM3Lt"
      },
      "outputs": [],
      "source": [
        "# Example integration\n",
        "def translate_chemistry_paper(input_pdf, output_pdf, source_lang='en', target_lang='es'):\n",
        "    text_layout = extract_text_layout(input_pdf)\n",
        "    translated_text = {}\n",
        "    i=0\n",
        "    for item in text_layout:\n",
        "        i=i+1\n",
        "        print(i)\n",
        "        word = item['text']\n",
        "        context = item # Additional context can be passed if needed\n",
        "        if is_chemical_entity(word, context):\n",
        "            translated_text[word] = word  # Keep the chemical entity as is\n",
        "        else:\n",
        "            translated_text[word] = translate_text(word, source_lang, target_lang)\n",
        "        # if i==100:\n",
        "        #   break\n",
        "        print(translated_text)\n",
        "\n",
        "    create_pdf_with_layout(text_layout, translated_text, output_pdf)\n"
      ]
    },
    {
      "cell_type": "code",
      "execution_count": 20,
      "metadata": {
        "id": "UjgKAALpM3qX"
      },
      "outputs": [],
      "source": [
        "# translate_chemistry_paper('/content/Chemistry-1.pdf', \"1.pdf\")"
      ]
    },
    {
      "cell_type": "code",
      "source": [
        "# pip install fitz"
      ],
      "metadata": {
        "id": "vypL3o0EXadp"
      },
      "execution_count": 21,
      "outputs": []
    },
    {
      "cell_type": "code",
      "source": [
        "# pip install frontend"
      ],
      "metadata": {
        "id": "wv2TH97PXq_7"
      },
      "execution_count": 22,
      "outputs": []
    },
    {
      "cell_type": "code",
      "execution_count": 23,
      "metadata": {
        "id": "XoFuCW8ZM3tN"
      },
      "outputs": [],
      "source": [
        "# import fitz  # PyMuPDF\n",
        "# from googletrans import Translator, LANGUAGES\n",
        "\n",
        "# def translate_pdf(input_pdf_path, output_pdf_path, target_lang='te'):\n",
        "#     # Initialize PDF and Translator\n",
        "#     doc = fitz.open(input_pdf_path)\n",
        "#     translator = Translator()\n",
        "\n",
        "#     # Create a new PDF for output\n",
        "#     new_doc = fitz.open()\n",
        "\n",
        "#     for page in doc:\n",
        "#         # Create a new page with the same size as the original\n",
        "#         new_page = new_doc.new_page(width=page.rect.width, height=page.rect.height)\n",
        "\n",
        "#         # Extract text blocks and images\n",
        "#         blocks = page.get_text(\"dict\")[\"blocks\"]\n",
        "#         for b in blocks:\n",
        "#             if b['type'] == 0:  # Text block\n",
        "#                 text = b[\"lines\"][0][\"spans\"][0][\"text\"]\n",
        "#                 # Translate text\n",
        "#                 translated_text = translator.translate(text, dest=target_lang).text\n",
        "#                 # Add text to new page\n",
        "#                 new_page.insert_text((b[\"bbox\"][0], b[\"bbox\"][1]), translated_text, fontsize=12)\n",
        "#             elif b['type'] == 1:  # Image block\n",
        "#                 xref = b[\"image\"]\n",
        "#                 base_image = doc.extract_image(xref)\n",
        "#                 new_page.insert_image(b[\"bbox\"], stream=base_image[\"image\"])\n",
        "\n",
        "#     new_doc.save(output_pdf_path)\n",
        "#     new_doc.close()\n",
        "#     doc.close()\n",
        "\n",
        "# # Use the function\n",
        "\n"
      ]
    },
    {
      "cell_type": "code",
      "source": [],
      "metadata": {
        "id": "VCx1VEKvXY40"
      },
      "execution_count": 23,
      "outputs": []
    },
    {
      "cell_type": "code",
      "source": [],
      "metadata": {
        "id": "YqvLZyywYbPE"
      },
      "execution_count": 23,
      "outputs": []
    },
    {
      "cell_type": "code",
      "source": [
        "# import pdfplumber\n",
        "# from reportlab.pdfgen import canvas\n",
        "# from googletrans import Translator\n",
        "\n",
        "# def translate_pdf(input_pdf_path, output_pdf_path, target_lang='te'):\n",
        "#     translator = Translator()\n",
        "#     # Open the original PDF\n",
        "#     with pdfplumber.open(input_pdf_path) as pdf:\n",
        "#         # Prepare to create a new PDF\n",
        "#         c = canvas.Canvas(output_pdf_path)\n",
        "\n",
        "#         for page_number, page in enumerate(pdf.pages):\n",
        "#             # For each page in the PDF\n",
        "#             c.drawString(100, 800, f\"Page {page_number + 1}\")  # Page header (optional)\n",
        "#             text = page.extract_text()\n",
        "#             if text:\n",
        "#                 # Translate the extracted text\n",
        "#                 translated_text = translator.translate(text, dest=target_lang).text\n",
        "#                 # Insert translated text into new PDF\n",
        "#                 textobject = c.beginText(40, 780)  # Adjust text position as needed\n",
        "#                 textobject.setFont(\"Times-Roman\", 12)\n",
        "#                 textobject.textLines(translated_text)\n",
        "#                 c.drawText(textobject)\n",
        "#             c.showPage()\n",
        "\n",
        "#         c.save()\n",
        "\n",
        "# # Usage\n",
        "\n"
      ],
      "metadata": {
        "id": "qDP7kpxsYbSh"
      },
      "execution_count": 24,
      "outputs": []
    },
    {
      "cell_type": "code",
      "source": [
        "# import pdfplumber\n",
        "# from reportlab.pdfgen import canvas\n",
        "# from reportlab.lib.pagesizes import letter\n",
        "# from googletrans import Translator\n",
        "\n",
        "# def translate_pdf(input_pdf_path, output_pdf_path, target_lang='es'):\n",
        "#     translator = Translator()\n",
        "\n",
        "#     with pdfplumber.open(input_pdf_path) as pdf:\n",
        "#         c = canvas.Canvas(output_pdf_path, pagesize=letter)\n",
        "\n",
        "#         for page in pdf.pages:\n",
        "#             for text in page.extract_words():\n",
        "#                 # Translate text\n",
        "#                 translated_text = translator.translate(text['text'], dest=target_lang).text\n",
        "\n",
        "#                 # Draw translated text on the canvas at the same position\n",
        "#                 c.drawString(text['x0'], 800 - text['top'], translated_text)\n",
        "\n",
        "#             c.showPage()\n",
        "#         c.save()\n",
        "\n",
        "\n"
      ],
      "metadata": {
        "id": "826FYygucrOi"
      },
      "execution_count": 25,
      "outputs": []
    },
    {
      "cell_type": "code",
      "source": [
        "# import pdfplumber\n",
        "# from reportlab.pdfgen import canvas\n",
        "# from googletrans import Translator\n",
        "# import re\n",
        "\n",
        "# # List of common chemical symbols\n",
        "# chemical_symbols = {\"H\", \"He\", \"Li\", \"Be\", \"B\", \"C\", \"N\", \"O\", \"F\", \"Ne\", \"Na\", \"Mg\", \"Al\", \"Si\", \"P\", \"S\", \"Cl\", \"Ar\", \"K\", \"Ca\"}\n",
        "\n",
        "# def is_chemical_symbol(word):\n",
        "#     # Simple check if a word is a chemical symbol\n",
        "#     return word in chemical_symbols\n",
        "\n",
        "# def translate_pdf(input_pdf_path, output_pdf_path, target_lang='es'):\n",
        "#     translator = Translator()\n",
        "\n",
        "#     with pdfplumber.open(input_pdf_path) as pdf:\n",
        "#         c = canvas.Canvas(output_pdf_path)\n",
        "\n",
        "#         for page_number, page in enumerate(pdf.pages):\n",
        "#             text_objects = page.extract_words()\n",
        "#             for text_obj in text_objects:\n",
        "#                 text = text_obj['text']\n",
        "#                 # Split the text into words and translate selectively\n",
        "#                 translated_words = []\n",
        "#                 for word in re.split('(\\W+)', text):  # Split by non-word characters, keeping the delimiters\n",
        "#                     if is_chemical_symbol(word):\n",
        "#                         translated_words.append(word)  # Keep chemical symbols untranslated\n",
        "#                     else:\n",
        "#                         translated_text = translator.translate(word, dest=target_lang).text\n",
        "#                         translated_words.append(translated_text)\n",
        "\n",
        "#                 translated_sentence = ''.join(translated_words)\n",
        "#                 textobject = c.beginText(text_obj['x0'], 800 - text_obj['top'])\n",
        "#                 textobject.setFont(\"Times-Roman\", 12)\n",
        "#                 textobject.textLine(translated_sentence)\n",
        "#                 c.drawText(textobject)\n",
        "\n",
        "#             c.showPage()\n",
        "\n",
        "#         c.save()\n",
        "\n",
        "# # Usage\n",
        "\n"
      ],
      "metadata": {
        "id": "9bg_kT8Wdpxh"
      },
      "execution_count": 26,
      "outputs": []
    },
    {
      "cell_type": "code",
      "source": [
        "# import pdfplumber\n",
        "# from reportlab.pdfgen import canvas\n",
        "# from googletrans import Translator, LANGUAGES\n",
        "# import re\n",
        "\n",
        "# # List of common chemical symbols\n",
        "# chemical_symbols = {\"H\", \"He\", \"Li\", \"Be\", \"B\", \"C\", \"N\", \"O\", \"F\", \"Ne\", \"Na\", \"Mg\", \"Al\", \"Si\", \"P\", \"S\", \"Cl\", \"Ar\", \"K\", \"Ca\"}\n",
        "\n",
        "# def is_chemical_symbol(word):\n",
        "#     return word in chemical_symbols\n",
        "\n",
        "# def translate_text(text, translator, target_lang='es'):\n",
        "#     try:\n",
        "#         translation = translator.translate(text, dest=target_lang)\n",
        "#         return translation.text if translation else text\n",
        "#     except Exception as e:\n",
        "#         print(f\"Error in translation: {e}\")\n",
        "#         return text\n",
        "\n",
        "# def translate_pdf(input_pdf_path, output_pdf_path, target_lang='es'):\n",
        "#     translator = Translator()\n",
        "\n",
        "#     with pdfplumber.open(input_pdf_path) as pdf:\n",
        "#         c = canvas.Canvas(output_pdf_path)\n",
        "\n",
        "#         for page_number, page in enumerate(pdf.pages):\n",
        "#             text_objects = page.extract_words()\n",
        "#             for text_obj in text_objects:\n",
        "#                 text = text_obj['text']\n",
        "#                 translated_words = []\n",
        "#                 for word in re.split('(\\W+)', text):  # Split by non-word characters, keeping the delimiters\n",
        "#                     if is_chemical_symbol(word):\n",
        "#                         translated_words.append(word)  # Keep chemical symbols untranslated\n",
        "#                     else:\n",
        "#                         translated_word = translate_text(word, translator, target_lang)\n",
        "#                         translated_words.append(translated_word)\n",
        "\n",
        "#                 translated_sentence = ''.join(translated_words)\n",
        "#                 textobject = c.beginText(text_obj['x0'], 800 - text_obj['top'])\n",
        "#                 textobject.setFont(\"Times-Roman\", 12)\n",
        "#                 textobject.textLine(translated_sentence)\n",
        "#                 c.drawText(textobject)\n",
        "\n",
        "#             c.showPage()\n",
        "\n",
        "#         c.save()\n",
        "\n",
        "# # Usage\n",
        "# # translate_pdf('input.pdf', 'output_translated.pdf', target_lang='es')\n"
      ],
      "metadata": {
        "id": "y_Fuxe8Eds4d"
      },
      "execution_count": 27,
      "outputs": []
    },
    {
      "cell_type": "code",
      "source": [],
      "metadata": {
        "id": "OHbquELziOWX"
      },
      "execution_count": 27,
      "outputs": []
    },
    {
      "cell_type": "code",
      "source": [
        "!pip install pymupdf googletrans==4.0.0-rc1"
      ],
      "metadata": {
        "colab": {
          "base_uri": "https://localhost:8080/"
        },
        "id": "KFwv3jayiPIk",
        "outputId": "30efc20d-ee83-44f1-9c17-d2e0679a8e7e"
      },
      "execution_count": 14,
      "outputs": [
        {
          "output_type": "stream",
          "name": "stdout",
          "text": [
            "Collecting pymupdf\n",
            "  Downloading PyMuPDF-1.23.6-cp310-none-manylinux2014_x86_64.whl (4.3 MB)\n",
            "\u001b[2K     \u001b[90m━━━━━━━━━━━━━━━━━━━━━━━━━━━━━━━━━━━━━━━━\u001b[0m \u001b[32m4.3/4.3 MB\u001b[0m \u001b[31m12.5 MB/s\u001b[0m eta \u001b[36m0:00:00\u001b[0m\n",
            "\u001b[?25hRequirement already satisfied: googletrans==4.0.0-rc1 in /usr/local/lib/python3.10/dist-packages (4.0.0rc1)\n",
            "Requirement already satisfied: httpx==0.13.3 in /usr/local/lib/python3.10/dist-packages (from googletrans==4.0.0-rc1) (0.13.3)\n",
            "Requirement already satisfied: certifi in /usr/local/lib/python3.10/dist-packages (from httpx==0.13.3->googletrans==4.0.0-rc1) (2023.7.22)\n",
            "Requirement already satisfied: hstspreload in /usr/local/lib/python3.10/dist-packages (from httpx==0.13.3->googletrans==4.0.0-rc1) (2023.1.1)\n",
            "Requirement already satisfied: sniffio in /usr/local/lib/python3.10/dist-packages (from httpx==0.13.3->googletrans==4.0.0-rc1) (1.3.0)\n",
            "Requirement already satisfied: chardet==3.* in /usr/local/lib/python3.10/dist-packages (from httpx==0.13.3->googletrans==4.0.0-rc1) (3.0.4)\n",
            "Requirement already satisfied: idna==2.* in /usr/local/lib/python3.10/dist-packages (from httpx==0.13.3->googletrans==4.0.0-rc1) (2.10)\n",
            "Requirement already satisfied: rfc3986<2,>=1.3 in /usr/local/lib/python3.10/dist-packages (from httpx==0.13.3->googletrans==4.0.0-rc1) (1.5.0)\n",
            "Requirement already satisfied: httpcore==0.9.* in /usr/local/lib/python3.10/dist-packages (from httpx==0.13.3->googletrans==4.0.0-rc1) (0.9.1)\n",
            "Requirement already satisfied: h11<0.10,>=0.8 in /usr/local/lib/python3.10/dist-packages (from httpcore==0.9.*->httpx==0.13.3->googletrans==4.0.0-rc1) (0.9.0)\n",
            "Requirement already satisfied: h2==3.* in /usr/local/lib/python3.10/dist-packages (from httpcore==0.9.*->httpx==0.13.3->googletrans==4.0.0-rc1) (3.2.0)\n",
            "Requirement already satisfied: hyperframe<6,>=5.2.0 in /usr/local/lib/python3.10/dist-packages (from h2==3.*->httpcore==0.9.*->httpx==0.13.3->googletrans==4.0.0-rc1) (5.2.0)\n",
            "Requirement already satisfied: hpack<4,>=3.0 in /usr/local/lib/python3.10/dist-packages (from h2==3.*->httpcore==0.9.*->httpx==0.13.3->googletrans==4.0.0-rc1) (3.0.0)\n",
            "Collecting PyMuPDFb==1.23.6 (from pymupdf)\n",
            "  Downloading PyMuPDFb-1.23.6-py3-none-manylinux2014_x86_64.manylinux_2_17_x86_64.whl (30.6 MB)\n",
            "\u001b[2K     \u001b[90m━━━━━━━━━━━━━━━━━━━━━━━━━━━━━━━━━━━━━━━━\u001b[0m \u001b[32m30.6/30.6 MB\u001b[0m \u001b[31m34.7 MB/s\u001b[0m eta \u001b[36m0:00:00\u001b[0m\n",
            "\u001b[?25hInstalling collected packages: PyMuPDFb, pymupdf\n",
            "Successfully installed PyMuPDFb-1.23.6 pymupdf-1.23.6\n"
          ]
        }
      ]
    },
    {
      "cell_type": "code",
      "source": [],
      "metadata": {
        "id": "gHhNOwvLjthl"
      },
      "execution_count": 28,
      "outputs": []
    },
    {
      "cell_type": "code",
      "source": [
        "import fitz  # PyMuPDF\n",
        "from googletrans import Translator\n",
        "\n",
        "def translate_pdf(input_pdf_path, output_pdf_path, target_lang='te'):\n",
        "    translator = Translator()\n",
        "    doc = fitz.open(input_pdf_path)\n",
        "    new_doc = fitz.open()\n",
        "\n",
        "    for page in doc:\n",
        "        new_page = new_doc.new_page(width=page.rect.width, height=page.rect.height)\n",
        "\n",
        "        blocks = page.get_text(\"dict\")[\"blocks\"]\n",
        "        for b in blocks:\n",
        "            if b['type'] == 0:  # Text block\n",
        "                for line in b[\"lines\"]:\n",
        "                    for span in line[\"spans\"]:\n",
        "                        text = span[\"text\"].strip()\n",
        "                        if text:\n",
        "                            try:\n",
        "                                translated_text = translator.translate(text, dest=target_lang).text\n",
        "                            except Exception as e:\n",
        "                                print(f\"Translation failed for '{text}': {e}\")\n",
        "                                translated_text = text  # Use original text if translation fails\n",
        "\n",
        "                            new_page.insert_text((span[\"bbox\"][0], span[\"bbox\"][1]), translated_text, fontsize=12)\n",
        "\n",
        "            elif b['type'] == 1:  # Image block\n",
        "                xref = b[\"image\"]\n",
        "                base_image = doc.extract_image(xref)\n",
        "                new_page.insert_image(b[\"bbox\"], stream=base_image[\"image\"])\n",
        "\n",
        "    new_doc.save(output_pdf_path)\n",
        "    new_doc.close()\n",
        "    doc.close()\n",
        "\n",
        "# Usage\n",
        "# translate_pdf('path/to/input.pdf', 'path/to/output.pdf', target_lang='es')\n"
      ],
      "metadata": {
        "id": "gXje6Br6jtlB"
      },
      "execution_count": 15,
      "outputs": []
    },
    {
      "cell_type": "code",
      "source": [
        "# import fitz  # PyMuPDF\n",
        "# from googletrans import Translator\n",
        "\n",
        "# def translate_pdf(input_pdf_path, output_pdf_path, target_lang='te'):\n",
        "#     translator = Translator()\n",
        "#     doc = fitz.open(input_pdf_path)\n",
        "#     new_doc = fitz.open()\n",
        "\n",
        "#     for page in doc:\n",
        "#         new_page = new_doc.new_page(width=page.rect.width, height=page.rect.height)\n",
        "\n",
        "#         blocks = page.get_text(\"dict\")[\"blocks\"]\n",
        "#         for b in blocks:\n",
        "#             if b['type'] == 0:  # Text block\n",
        "#                 for line in b[\"lines\"]:\n",
        "#                     for span in line[\"spans\"]:\n",
        "#                         text = span[\"text\"].strip()\n",
        "#                         if text:\n",
        "#                             try:\n",
        "#                                 translated_text = translator.translate(text, dest=target_lang).text\n",
        "#                             except Exception as e:\n",
        "#                                 print(f\"Translation failed for '{text}': {e}\")\n",
        "#                                 translated_text = text  # Use original text if translation fails\n",
        "\n",
        "#                             new_page.insert_text((span[\"bbox\"][0], span[\"bbox\"][1]), translated_text, fontsize=12)\n",
        "\n",
        "#             elif b['type'] == 1:  # Image block\n",
        "#                 img_dict = page.get_image(b[\"image\"])  # Get the image dictionary\n",
        "#                 if img_dict:\n",
        "#                     xref = img_dict[\"xref\"]  # Correctly extract the xref\n",
        "#                     base_image = doc.extract_image(xref)\n",
        "#                     new_page.insert_image(b[\"bbox\"], stream=base_image[\"image\"])\n",
        "\n",
        "#     new_doc.save(output_pdf_path)\n",
        "#     new_doc.close()\n",
        "#     doc.close()\n",
        "\n",
        "# # Usage example:\n",
        "# # translate_pdf('path/to/input.pdf', 'path/to/output.pdf', target_lang='es')\n"
      ],
      "metadata": {
        "id": "KSBvtmckmvaE"
      },
      "execution_count": 30,
      "outputs": []
    },
    {
      "cell_type": "code",
      "source": [
        "# import fitz  # PyMuPDF\n",
        "# from googletrans import Translator\n",
        "\n",
        "# def translate_pdf(input_pdf_path, output_pdf_path, target_lang='te'):\n",
        "#     translator = Translator()\n",
        "#     doc = fitz.open(input_pdf_path)\n",
        "#     new_doc = fitz.open()\n",
        "\n",
        "#     for page in doc:\n",
        "#         new_page = new_doc.new_page(width=page.rect.width, height=page.rect.height)\n",
        "\n",
        "#         blocks = page.get_text(\"dict\")[\"blocks\"]\n",
        "#         for b in blocks:\n",
        "#             if b['type'] == 0:  # Text block\n",
        "#                 for line in b[\"lines\"]:\n",
        "#                     for span in line[\"spans\"]:\n",
        "#                         text = span[\"text\"].strip()\n",
        "#                         if text:\n",
        "#                             try:\n",
        "#                                 translated_text = translator.translate(text, dest=target_lang).text\n",
        "#                             except Exception as e:\n",
        "#                                 print(f\"Translation failed for '{text}': {e}\")\n",
        "#                                 translated_text = text  # Use original text if translation fails\n",
        "\n",
        "#                             new_page.insert_text((span[\"bbox\"][0], span[\"bbox\"][1]), translated_text, fontsize=12)\n",
        "\n",
        "#             elif b['type'] == 1:  # Image block\n",
        "#                 xref = b[\"image\"]\n",
        "#                 if xref >= 0:  # Valid image xref\n",
        "#                     base_image = doc.extract_image(xref)\n",
        "#                     new_page.insert_image(b[\"bbox\"], stream=base_image[\"image\"])\n",
        "\n",
        "#     new_doc.save(output_pdf_path)\n",
        "#     new_doc.close()\n",
        "#     doc.close()\n",
        "\n",
        "# # Usage example:\n",
        "# # translate_pdf('path/to/input.pdf', 'path/to/output.pdf', target_lang='es')\n"
      ],
      "metadata": {
        "id": "VgdqqjAanKej"
      },
      "execution_count": 31,
      "outputs": []
    },
    {
      "cell_type": "code",
      "source": [
        "# import fitz  # PyMuPDF\n",
        "# from googletrans import Translator\n",
        "\n",
        "# def translate_pdf(input_pdf_path, output_pdf_path, target_lang='te'):\n",
        "#     translator = Translator()\n",
        "#     doc = fitz.open(input_pdf_path)\n",
        "#     new_doc = fitz.open()\n",
        "\n",
        "#     for page in doc:\n",
        "#         new_page = new_doc.new_page(width=page.rect.width, height=page.rect.height)\n",
        "\n",
        "#         blocks = page.get_text(\"dict\")[\"blocks\"]\n",
        "#         for b in blocks:\n",
        "#             if b['type'] == 0:  # Text block\n",
        "#                 for line in b[\"lines\"]:\n",
        "#                     for span in line[\"spans\"]:\n",
        "#                         text = span[\"text\"].strip()\n",
        "#                         if text:\n",
        "#                             try:\n",
        "#                                 translated_text = translator.translate(text, dest=target_lang).text\n",
        "#                             except Exception as e:\n",
        "#                                 print(f\"Translation failed for '{text}': {e}\")\n",
        "#                                 translated_text = text  # Use original text if translation fails\n",
        "\n",
        "#                             new_page.insert_text((span[\"bbox\"][0], span[\"bbox\"][1]), translated_text, fontsize=12)\n",
        "\n",
        "#             elif b['type'] == 1 and 'image' in b:  # Image block\n",
        "#                 xref = b[\"image\"]\n",
        "#                 base_image = doc.extract_image(xref)\n",
        "#                 if base_image:\n",
        "#                     new_page.insert_image(b[\"bbox\"], stream=base_image[\"image\"])\n",
        "\n",
        "#     new_doc.save(output_pdf_path)\n",
        "#     new_doc.close()\n",
        "#     doc.close()\n",
        "\n",
        "# # Usage example:\n",
        "# # translate_pdf('path/to/input.pdf', 'path/to/output.pdf', target_lang='es')\n"
      ],
      "metadata": {
        "id": "KMEt4brEnmDe"
      },
      "execution_count": 32,
      "outputs": []
    },
    {
      "cell_type": "code",
      "source": [
        "import fitz  # PyMuPDF\n",
        "from googletrans import Translator\n",
        "\n",
        "def translate_pdf(input_pdf_path, output_pdf_path, target_lang='te'):\n",
        "    translator = Translator()\n",
        "    doc = fitz.open(input_pdf_path)\n",
        "    new_doc = fitz.open()\n",
        "\n",
        "    for page in doc:\n",
        "        new_page = new_doc.new_page(width=page.rect.width, height=page.rect.height)\n",
        "\n",
        "        blocks = page.get_text(\"dict\")[\"blocks\"]\n",
        "        for b in blocks:\n",
        "            if b['type'] == 0:  # Text block\n",
        "                for line in b[\"lines\"]:\n",
        "                    for span in line[\"spans\"]:\n",
        "                        text = span[\"text\"].strip()\n",
        "                        if text:\n",
        "                            try:\n",
        "                                translated_text = translator.translate(text, dest=target_lang).text\n",
        "                            except Exception as e:\n",
        "                                print(f\"Translation failed for '{text}': {e}\")\n",
        "                                translated_text = text  # Use original text if translation fails\n",
        "\n",
        "                            new_page.insert_text((span[\"bbox\"][0], span[\"bbox\"][1]), translated_text, fontsize=9)\n",
        "\n",
        "            elif b['type'] == 1:  # Image block\n",
        "                xref = b[\"image\"]\n",
        "                if isinstance(xref, int) and xref >= 0:\n",
        "                    base_image = doc.extract_image(xref)\n",
        "                    if base_image:\n",
        "                        new_page.insert_image(b[\"bbox\"], stream=base_image[\"image\"])\n",
        "\n",
        "    new_doc.save(output_pdf_path)\n",
        "    new_doc.close()\n",
        "    doc.close()\n",
        "\n",
        "# Usage example:\n",
        "# translate_pdf('path/to/input.pdf', 'path/to/output.pdf', target_lang='es')\n"
      ],
      "metadata": {
        "id": "hu4glpFLoIXo"
      },
      "execution_count": 18,
      "outputs": []
    },
    {
      "cell_type": "code",
      "source": [
        "translate_pdf('Chemistry_removed.pdf', 'chem_remove2.pdf', target_lang='es')"
      ],
      "metadata": {
        "id": "kP15ID0CYe00"
      },
      "execution_count": null,
      "outputs": []
    },
    {
      "cell_type": "code",
      "source": [
        "# import fitz  # PyMuPDF\n",
        "# from googletrans import Translator\n",
        "\n",
        "# def translate_pdf(input_pdf_path, output_pdf_path, target_lang='te'):\n",
        "#     translator = Translator()\n",
        "#     doc = fitz.open(input_pdf_path)\n",
        "#     new_doc = fitz.open()\n",
        "\n",
        "#     for page in doc:\n",
        "#         new_page = new_doc.new_page(width=page.rect.width, height=page.rect.height)\n",
        "\n",
        "#         blocks = page.get_text(\"dict\")[\"blocks\"]\n",
        "#         table_rows = []  # To store table rows temporarily\n",
        "\n",
        "#         for b in blocks:\n",
        "#             if b['type'] == 0:  # Text block\n",
        "#                 # Check for horizontal alignment to detect potential table rows\n",
        "#                 if all(span[\"bbox\"][1] == blocks[0][\"lines\"][0][\"spans\"][0][\"bbox\"][1] for span in b[\"lines\"][0][\"spans\"]):\n",
        "#                     table_rows.append(b)\n",
        "#                 else:\n",
        "#                     # Process the table if it contains rows\n",
        "#                     if table_rows:\n",
        "#                         process_table_rows(new_page, translator, table_rows, target_lang)\n",
        "#                         table_rows = []  # Reset table_rows for the next potential table\n",
        "\n",
        "#                     for line in b[\"lines\"]:\n",
        "#                         for span in line[\"spans\"]:\n",
        "#                             text = span[\"text\"].strip()\n",
        "#                             if text:\n",
        "#                                 try:\n",
        "#                                     translated_text = translator.translate(text, dest=target_lang).text\n",
        "#                                 except Exception as e:\n",
        "#                                     print(f\"Translation failed for '{text}': {e}\")\n",
        "#                                     translated_text = text  # Use original text if translation fails\n",
        "\n",
        "#                                 # Reduce the font size (change the value below as needed)\n",
        "#                                 new_page.insert_text((span[\"bbox\"][0], span[\"bbox\"][1]), translated_text, fontsize=8)\n",
        "\n",
        "#             elif b['type'] == 1:  # Image block\n",
        "#                 xref = b[\"image\"]\n",
        "#                 if isinstance(xref, int) and xref >= 0:\n",
        "#                     base_image = doc.extract_image(xref)\n",
        "#                     if base_image:\n",
        "#                         new_page.insert_image(b[\"bbox\"], stream=base_image[\"image\"])\n",
        "\n",
        "#         # Process the remaining table rows, if any\n",
        "#         if table_rows:\n",
        "#             process_table_rows(new_page, translator, table_rows, target_lang)\n",
        "\n",
        "#     new_doc.save(output_pdf_path)\n",
        "#     new_doc.close()\n",
        "#     doc.close()\n",
        "\n",
        "# def process_table_rows(new_page, translator, table_rows, target_lang):\n",
        "#     # Sort table rows based on y-coordinate to maintain order\n",
        "#     sorted_rows = sorted(table_rows, key=lambda x: x[\"lines\"][0][\"spans\"][0][\"bbox\"][1])\n",
        "\n",
        "#     for b in sorted_rows:\n",
        "#         for line in b[\"lines\"]:\n",
        "#             for span in line[\"spans\"]:\n",
        "#                 text = span[\"text\"].strip()\n",
        "#                 if text:\n",
        "#                     try:\n",
        "#                         translated_text = translator.translate(text, dest=target_lang).text\n",
        "#                     except Exception as e:\n",
        "#                         print(f\"Translation failed for '{text}': {e}\")\n",
        "#                         translated_text = text  # Use the original text if translation fails\n",
        "\n",
        "#                     # Reduce the font size (change the value below as needed)\n",
        "#                     new_page.insert_text((span[\"bbox\"][0], span[\"bbox\"][1]), translated_text, fontsize=8)\n",
        "# translate_pdf('Chemistry_removed.pdf', 'chem_remove_table.pdf', target_lang='es')"
      ],
      "metadata": {
        "id": "TU4d93y1iPDE",
        "colab": {
          "base_uri": "https://localhost:8080/"
        },
        "outputId": "a1b0d78f-c68e-48aa-9daf-e37bed6aaabe"
      },
      "execution_count": 23,
      "outputs": [
        {
          "output_type": "stream",
          "name": "stdout",
          "text": [
            "Translation failed for 'PRACTICALS': 'NoneType' object is not iterable\n",
            "Translation failed for 'A.': 'NoneType' object is not iterable\n"
          ]
        }
      ]
    },
    {
      "cell_type": "code",
      "source": [
        "import fitz  # PyMuPDF\n",
        "from googletrans import Translator\n",
        "\n",
        "def translate_pdf(input_pdf_path, output_pdf_path, target_lang='te'):\n",
        "    translator = Translator()\n",
        "    doc = fitz.open(input_pdf_path)\n",
        "    new_doc = fitz.open()\n",
        "\n",
        "    for page in doc:\n",
        "        new_page = new_doc.new_page(width=page.rect.width, height=page.rect.height)\n",
        "\n",
        "        blocks = page.get_text(\"dict\")[\"blocks\"]\n",
        "        table_rows = []\n",
        "\n",
        "        for b in blocks:\n",
        "            if b['type'] == 0:  # Text block\n",
        "                for line in b[\"lines\"]:\n",
        "                    for span in line[\"spans\"]:\n",
        "                        text = span[\"text\"].strip()\n",
        "                        if text:\n",
        "                            try:\n",
        "                                translated_text = translator.translate(text, dest=target_lang).text\n",
        "                            except Exception as e:\n",
        "                                print(f\"Translation failed for '{text}': {e}\")\n",
        "                                translated_text = text  # Use original text if translation fails\n",
        "\n",
        "                            new_page.insert_text((span[\"bbox\"][0], span[\"bbox\"][1]), translated_text, fontsize=9)\n",
        "\n",
        "            elif b['type'] == 1:  # Image block\n",
        "                xref = b[\"image\"]\n",
        "                if isinstance(xref, int) and xref >= 0:\n",
        "                    base_image = doc.extract_image(xref)\n",
        "                    if base_image:\n",
        "                        new_page.insert_image(b[\"bbox\"], stream=base_image[\"image\"])\n",
        "\n",
        "            elif b['type'] == 2:  # Table block\n",
        "                table_rows.append(b)\n",
        "\n",
        "        # Process the table rows if any\n",
        "        if table_rows:\n",
        "            process_table_rows(new_page, translator, table_rows, target_lang)\n",
        "\n",
        "    new_doc.save(output_pdf_path)\n",
        "    new_doc.close()\n",
        "    doc.close()\n",
        "\n",
        "def process_table_rows(new_page, translator, table_rows, target_lang):\n",
        "    sorted_rows = sorted(table_rows, key=lambda x: x[\"lines\"][0][\"spans\"][0][\"bbox\"][1])\n",
        "\n",
        "    for b in sorted_rows:\n",
        "        for line in b[\"lines\"]:\n",
        "            for span in line[\"spans\"]:\n",
        "                text = span[\"text\"].strip()\n",
        "                if text:\n",
        "                    try:\n",
        "                        translated_text = translator.translate(text, dest=target_lang).text\n",
        "                    except Exception as e:\n",
        "                        print(f\"Translation failed for '{text}': {e}\")\n",
        "                        translated_text = text\n",
        "\n",
        "                    new_page.insert_text((span[\"bbox\"][0], span[\"bbox\"][1]), translated_text, fontsize=9)\n",
        "\n",
        "\n",
        "translate_pdf('Chemistry_removed.pdf', 'table.pdf', target_lang='es')\n"
      ],
      "metadata": {
        "colab": {
          "base_uri": "https://localhost:8080/"
        },
        "id": "RCrnrnFNrGas",
        "outputId": "6a5fe68c-dc3b-4135-ec17-337c4e4b0dcb"
      },
      "execution_count": 24,
      "outputs": [
        {
          "output_type": "stream",
          "name": "stdout",
          "text": [
            "Translation failed for 'PRACTICALS': 'NoneType' object is not iterable\n",
            "Translation failed for 'A.': 'NoneType' object is not iterable\n"
          ]
        }
      ]
    },
    {
      "cell_type": "code",
      "source": [],
      "metadata": {
        "id": "37m9OWE9iPKf"
      },
      "execution_count": 34,
      "outputs": []
    },
    {
      "cell_type": "code",
      "source": [
        "# import fitz  # PyMuPDF\n",
        "# from googletrans import Translator\n",
        "\n",
        "# def translate_pdf(input_pdf_path, output_pdf_path, target_lang='es'):\n",
        "#     translator = Translator()\n",
        "#     doc = fitz.open(input_pdf_path)\n",
        "#     new_doc = fitz.open()  # Create a new PDF document\n",
        "\n",
        "#     for page_num in range(len(doc)):\n",
        "#         page = doc.load_page(page_num)\n",
        "#         new_page = new_doc.new_page(width=page.rect.width, height=page.rect.height)  # Create a page with the same size\n",
        "#         text_instances = page.get_text(\"dict\")[\"blocks\"]\n",
        "\n",
        "#         for inst in text_instances:\n",
        "#             if inst[\"type\"] == 0:  # Text block\n",
        "#                 text = inst[\"lines\"][0][\"spans\"][0][\"text\"]\n",
        "#                 try:\n",
        "#                     translated_text = translator.translate(text, dest=target_lang).text\n",
        "#                 except Exception as e:\n",
        "#                     print(f\"Translation failed: {e}\")\n",
        "#                     translated_text = text  # Use original text if translation fails\n",
        "\n",
        "#                 # Overlay the translated text onto the new page\n",
        "#                 rect = fitz.Rect(inst[\"bbox\"])\n",
        "#                 new_page.insert_textbox(rect, translated_text, fontsize=12, align=1)\n",
        "\n",
        "#     new_doc.save(output_pdf_path)\n",
        "#     new_doc.close()\n",
        "#     doc.close()\n",
        "\n",
        "# # Usage\n",
        "\n"
      ],
      "metadata": {
        "id": "t-NMx2driPN1"
      },
      "execution_count": 35,
      "outputs": []
    },
    {
      "cell_type": "code",
      "source": [
        "# translate_pdf('/content/Chemistry-1-2.pdf', 'f.pdf', target_lang='es')"
      ],
      "metadata": {
        "id": "FMkkCXiFilaZ"
      },
      "execution_count": 36,
      "outputs": []
    }
  ],
  "metadata": {
    "colab": {
      "provenance": []
    },
    "kernelspec": {
      "display_name": "Python 3",
      "name": "python3"
    },
    "language_info": {
      "name": "python"
    }
  },
  "nbformat": 4,
  "nbformat_minor": 0
}